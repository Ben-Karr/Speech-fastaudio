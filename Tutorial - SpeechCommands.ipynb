{
 "cells": [
  {
   "cell_type": "code",
   "execution_count": 1,
   "metadata": {},
   "outputs": [],
   "source": [
    "from fastai.torch_basics import *\n",
    "from fastai.basics import *\n",
    "from fastai.data.all import *\n",
    "from fastai.callback.all import *\n",
    "from fastai.vision.all import *\n",
    "\n",
    "from fastaudio.core.all import *\n",
    "from fastaudio.augment.all import *"
   ]
  },
  {
   "cell_type": "code",
   "execution_count": 2,
   "metadata": {},
   "outputs": [
    {
     "data": {
      "text/plain": [
       "<torchaudio.datasets.speechcommands.SPEECHCOMMANDS at 0x7f36086c6460>"
      ]
     },
     "execution_count": 2,
     "metadata": {},
     "output_type": "execute_result"
    }
   ],
   "source": [
    "r = torchaudio.datasets.SPEECHCOMMANDS('.', download = True)\n",
    "r"
   ]
  },
  {
   "cell_type": "code",
   "execution_count": 3,
   "metadata": {},
   "outputs": [
    {
     "data": {
      "text/plain": [
       "105835"
      ]
     },
     "execution_count": 3,
     "metadata": {},
     "output_type": "execute_result"
    }
   ],
   "source": [
    "commands_path = Path('SpeechCommands')\n",
    "audio_files = get_audio_files(commands_path)\n",
    "len(audio_files)"
   ]
  },
  {
   "cell_type": "code",
   "execution_count": 4,
   "metadata": {},
   "outputs": [
    {
     "name": "stdout",
     "output_type": "stream",
     "text": [
      "SpeechCommands/speech_commands_v0.02/stop/a902ce9b_nohash_2.wav\n",
      "SpeechCommands/speech_commands_v0.02/eight/5744b6a7_nohash_0.wav\n",
      "SpeechCommands/speech_commands_v0.02/four/28ed6bc9_nohash_2.wav\n",
      "SpeechCommands/speech_commands_v0.02/cat/8c7c9168_nohash_1.wav\n",
      "SpeechCommands/speech_commands_v0.02/on/51eefcc6_nohash_0.wav\n",
      "SpeechCommands/speech_commands_v0.02/forward/39afb88e_nohash_0.wav\n",
      "SpeechCommands/speech_commands_v0.02/one/51f4d5b0_nohash_0.wav\n",
      "SpeechCommands/speech_commands_v0.02/wow/1625acd8_nohash_0.wav\n",
      "SpeechCommands/speech_commands_v0.02/four/173e6bbf_nohash_1.wav\n",
      "SpeechCommands/speech_commands_v0.02/off/5ebc1cda_nohash_1.wav\n"
     ]
    }
   ],
   "source": [
    "for i in range(10):\n",
    "    print(random.choice(audio_files))"
   ]
  },
  {
   "cell_type": "code",
   "execution_count": 5,
   "metadata": {},
   "outputs": [
    {
     "name": "stdout",
     "output_type": "stream",
     "text": [
      "File:  SpeechCommands/speech_commands_v0.02/go/e6515415_nohash_1.wav\n",
      "Label:  go\n",
      "File:  SpeechCommands/speech_commands_v0.02/six/ab9b93e4_nohash_0.wav\n",
      "Label:  six\n",
      "File:  SpeechCommands/speech_commands_v0.02/six/1dc86f91_nohash_0.wav\n",
      "Label:  six\n",
      "File:  SpeechCommands/speech_commands_v0.02/cat/66774579_nohash_0.wav\n",
      "Label:  cat\n",
      "File:  SpeechCommands/speech_commands_v0.02/off/4c13fe25_nohash_1.wav\n",
      "Label:  off\n",
      "File:  SpeechCommands/speech_commands_v0.02/six/5d0ab165_nohash_0.wav\n",
      "Label:  six\n",
      "File:  SpeechCommands/speech_commands_v0.02/off/9ce7a419_nohash_2.wav\n",
      "Label:  off\n",
      "File:  SpeechCommands/speech_commands_v0.02/stop/24ed94ab_nohash_1.wav\n",
      "Label:  stop\n",
      "File:  SpeechCommands/speech_commands_v0.02/right/db8a3397_nohash_2.wav\n",
      "Label:  right\n",
      "File:  SpeechCommands/speech_commands_v0.02/eight/a77fbcfd_nohash_0.wav\n",
      "Label:  eight\n"
     ]
    }
   ],
   "source": [
    "for i in range(10):\n",
    "    f = random.choice(audio_files)\n",
    "    print('File: ', f)\n",
    "    print('Label: ', parent_label(f))"
   ]
  },
  {
   "cell_type": "code",
   "execution_count": 6,
   "metadata": {},
   "outputs": [
    {
     "ename": "NameError",
     "evalue": "name 'crop_signal_to' is not defined",
     "output_type": "error",
     "traceback": [
      "\u001b[0;31m---------------------------------------------------------------------------\u001b[0m",
      "\u001b[0;31mNameError\u001b[0m                                 Traceback (most recent call last)",
      "\u001b[0;32m<ipython-input-6-0878be762078>\u001b[0m in \u001b[0;36m<module>\u001b[0;34m\u001b[0m\n\u001b[1;32m      1\u001b[0m \u001b[0mDBMelSpec\u001b[0m \u001b[0;34m=\u001b[0m \u001b[0mSpectrogramTransformer\u001b[0m\u001b[0;34m(\u001b[0m\u001b[0mmel\u001b[0m\u001b[0;34m=\u001b[0m\u001b[0;32mTrue\u001b[0m\u001b[0;34m,\u001b[0m \u001b[0mto_db\u001b[0m\u001b[0;34m=\u001b[0m\u001b[0;32mTrue\u001b[0m\u001b[0;34m)\u001b[0m\u001b[0;34m\u001b[0m\u001b[0;34m\u001b[0m\u001b[0m\n\u001b[1;32m      2\u001b[0m \u001b[0ma2s\u001b[0m \u001b[0;34m=\u001b[0m \u001b[0mDBMelSpec\u001b[0m\u001b[0;34m(\u001b[0m\u001b[0;34m)\u001b[0m\u001b[0;34m\u001b[0m\u001b[0;34m\u001b[0m\u001b[0m\n\u001b[0;32m----> 3\u001b[0;31m \u001b[0mcrop_4000ms\u001b[0m \u001b[0;34m=\u001b[0m \u001b[0mcrop_signal_to\u001b[0m\u001b[0;34m(\u001b[0m\u001b[0;36m4000\u001b[0m\u001b[0;34m)\u001b[0m\u001b[0;34m\u001b[0m\u001b[0;34m\u001b[0m\u001b[0m\n\u001b[0m\u001b[1;32m      4\u001b[0m \u001b[0mtfms\u001b[0m \u001b[0;34m=\u001b[0m \u001b[0;34m[\u001b[0m\u001b[0mcrop_4000ms\u001b[0m\u001b[0;34m,\u001b[0m \u001b[0ma2s\u001b[0m\u001b[0;34m]\u001b[0m\u001b[0;34m\u001b[0m\u001b[0;34m\u001b[0m\u001b[0m\n",
      "\u001b[0;31mNameError\u001b[0m: name 'crop_signal_to' is not defined"
     ]
    }
   ],
   "source": [
    "DBMelSpec = SpectrogramTransformer(mel=True, to_db=True)\n",
    "a2s = DBMelSpec()\n",
    "crop_4000ms = crop_signal_to(4000)\n",
    "tfms = [crop_4000ms, a2s]"
   ]
  },
  {
   "cell_type": "code",
   "execution_count": 11,
   "metadata": {},
   "outputs": [],
   "source": [
    "DMBelSpec = SpectrogramTransformer(mel = True, to_db = True)\n",
    "a2s = DBMelSpec()\n",
    "crop_4000ms = ResizeSignal(duration=4000)\n",
    "tfms = [crop_4000ms, a2s]"
   ]
  },
  {
   "cell_type": "code",
   "execution_count": 12,
   "metadata": {},
   "outputs": [],
   "source": [
    "auds = DataBlock(blocks=(AudioBlock, CategoryBlock),  \n",
    "                 get_items=get_audio_files, \n",
    "                 splitter=RandomSplitter(),\n",
    "                 item_tfms=tfms,\n",
    "                 get_y=parent_label)"
   ]
  },
  {
   "cell_type": "code",
   "execution_count": 13,
   "metadata": {},
   "outputs": [],
   "source": [
    "audio_dbunch = auds.dataloaders(commands_path, item_tfms=tfms, bs=64)"
   ]
  },
  {
   "cell_type": "code",
   "execution_count": 14,
   "metadata": {},
   "outputs": [],
   "source": [
    "def alter_learner(learn, channels=1):\n",
    "    learn.model[0][0].in_channels=channels\n",
    "    learn.model[0][0].weight = torch.nn.parameter.Parameter(learn.model[0][0].weight[:,1,:,:].unsqueeze(1))"
   ]
  },
  {
   "cell_type": "code",
   "execution_count": 15,
   "metadata": {},
   "outputs": [],
   "source": [
    "learn = Learner(audio_dbunch, \n",
    "                xresnet18(),\n",
    "                torch.nn.CrossEntropyLoss(), \n",
    "                metrics=[accuracy])\n",
    "nchannels = audio_dbunch.one_batch()[0].shape[1]\n",
    "alter_learner(learn, nchannels)"
   ]
  },
  {
   "cell_type": "code",
   "execution_count": 16,
   "metadata": {},
   "outputs": [
    {
     "data": {
      "text/html": [],
      "text/plain": [
       "<IPython.core.display.HTML object>"
      ]
     },
     "metadata": {},
     "output_type": "display_data"
    },
    {
     "data": {
      "text/plain": [
       "SuggestedLRs(lr_min=0.09120108485221863, lr_steep=0.0030199517495930195)"
      ]
     },
     "execution_count": 16,
     "metadata": {},
     "output_type": "execute_result"
    },
    {
     "data": {
      "image/png": "[encoded data removed]",
      "text/plain": [
       "<Figure size 432x288 with 1 Axes>"
      ]
     },
     "metadata": {
      "needs_background": "light"
     },
     "output_type": "display_data"
    }
   ],
   "source": [
    "learn.lr_find()"
   ]
  },
  {
   "cell_type": "code",
   "execution_count": 17,
   "metadata": {},
   "outputs": [
    {
     "data": {
      "text/html": [
       "<table border=\"1\" class=\"dataframe\">\n",
       "  <thead>\n",
       "    <tr style=\"text-align: left;\">\n",
       "      <th>epoch</th>\n",
       "      <th>train_loss</th>\n",
       "      <th>valid_loss</th>\n",
       "      <th>accuracy</th>\n",
       "      <th>time</th>\n",
       "    </tr>\n",
       "  </thead>\n",
       "  <tbody>\n",
       "    <tr>\n",
       "      <td>0</td>\n",
       "      <td>0.827464</td>\n",
       "      <td>0.828822</td>\n",
       "      <td>0.753059</td>\n",
       "      <td>01:19</td>\n",
       "    </tr>\n",
       "  </tbody>\n",
       "</table>"
      ],
      "text/plain": [
       "<IPython.core.display.HTML object>"
      ]
     },
     "metadata": {},
     "output_type": "display_data"
    },
    {
     "data": {
      "text/html": [
       "<table border=\"1\" class=\"dataframe\">\n",
       "  <thead>\n",
       "    <tr style=\"text-align: left;\">\n",
       "      <th>epoch</th>\n",
       "      <th>train_loss</th>\n",
       "      <th>valid_loss</th>\n",
       "      <th>accuracy</th>\n",
       "      <th>time</th>\n",
       "    </tr>\n",
       "  </thead>\n",
       "  <tbody>\n",
       "    <tr>\n",
       "      <td>0</td>\n",
       "      <td>0.376875</td>\n",
       "      <td>0.540082</td>\n",
       "      <td>0.839892</td>\n",
       "      <td>01:19</td>\n",
       "    </tr>\n",
       "    <tr>\n",
       "      <td>1</td>\n",
       "      <td>0.430937</td>\n",
       "      <td>0.477462</td>\n",
       "      <td>0.854821</td>\n",
       "      <td>01:19</td>\n",
       "    </tr>\n",
       "    <tr>\n",
       "      <td>2</td>\n",
       "      <td>0.443832</td>\n",
       "      <td>1.459797</td>\n",
       "      <td>0.666887</td>\n",
       "      <td>01:19</td>\n",
       "    </tr>\n",
       "    <tr>\n",
       "      <td>3</td>\n",
       "      <td>0.413645</td>\n",
       "      <td>0.450336</td>\n",
       "      <td>0.864364</td>\n",
       "      <td>01:19</td>\n",
       "    </tr>\n",
       "    <tr>\n",
       "      <td>4</td>\n",
       "      <td>0.364855</td>\n",
       "      <td>0.454252</td>\n",
       "      <td>0.865593</td>\n",
       "      <td>01:20</td>\n",
       "    </tr>\n",
       "    <tr>\n",
       "      <td>5</td>\n",
       "      <td>0.316359</td>\n",
       "      <td>0.360606</td>\n",
       "      <td>0.894175</td>\n",
       "      <td>01:19</td>\n",
       "    </tr>\n",
       "    <tr>\n",
       "      <td>6</td>\n",
       "      <td>0.242819</td>\n",
       "      <td>0.315355</td>\n",
       "      <td>0.908159</td>\n",
       "      <td>01:19</td>\n",
       "    </tr>\n",
       "    <tr>\n",
       "      <td>7</td>\n",
       "      <td>0.184282</td>\n",
       "      <td>0.209949</td>\n",
       "      <td>0.937733</td>\n",
       "      <td>01:19</td>\n",
       "    </tr>\n",
       "    <tr>\n",
       "      <td>8</td>\n",
       "      <td>0.127042</td>\n",
       "      <td>0.171711</td>\n",
       "      <td>0.949402</td>\n",
       "      <td>01:22</td>\n",
       "    </tr>\n",
       "    <tr>\n",
       "      <td>9</td>\n",
       "      <td>0.099036</td>\n",
       "      <td>0.163501</td>\n",
       "      <td>0.951717</td>\n",
       "      <td>01:21</td>\n",
       "    </tr>\n",
       "  </tbody>\n",
       "</table>"
      ],
      "text/plain": [
       "<IPython.core.display.HTML object>"
      ]
     },
     "metadata": {},
     "output_type": "display_data"
    }
   ],
   "source": [
    "learn.fine_tune(10, 8e-2)"
   ]
  },
  {
   "cell_type": "code",
   "execution_count": null,
   "metadata": {},
   "outputs": [],
   "source": []
  }
 ],
 "metadata": {
  "kernelspec": {
   "display_name": "Python 3",
   "language": "python",
   "name": "python3"
  },
  "language_info": {
   "codemirror_mode": {
    "name": "ipython",
    "version": 3
   },
   "file_extension": ".py",
   "mimetype": "text/x-python",
   "name": "python",
   "nbconvert_exporter": "python",
   "pygments_lexer": "ipython3",
   "version": "3.8.5"
  }
 },
 "nbformat": 4,
 "nbformat_minor": 4
}
